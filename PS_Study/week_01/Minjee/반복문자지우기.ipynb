{
 "cells": [
  {
   "cell_type": "code",
   "execution_count": 1,
   "metadata": {},
   "outputs": [
    {
     "name": "stdout",
     "output_type": "stream",
     "text": [
      "3\n",
      "ABCCB\n",
      "#1 1\n",
      "ABCCB\n",
      "#2 1\n",
      "ABCCB\n",
      "#3 1\n"
     ]
    }
   ],
   "source": [
    "TC = int(input())\n",
    "\n",
    "for tc in range(1, TC+1):\n",
    "    Data = list(input())\n",
    "    N = len(Data)\n",
    "    stack = []\n",
    "    for i in range(N):\n",
    "        #stack이 비었거나, 스택의 마지막 값이 데이터 내 값과 같지 않은 경우 \n",
    "        #=> stack에 저장(append)\n",
    "        if not stack or stack[-1] != Data[i]:\n",
    "            stack.append(Data[i])\n",
    "        #stack에 값이 있고, 스택의 마지막 값과 데이터 내 값과 같은 경우 \n",
    "        #=> stack에서 제거(pop)\n",
    "        elif stack and stack[-1] == Data[i]:\n",
    "            stack.pop()\n",
    "    print(f'#{tc} {len(stack)}')"
   ]
  },
  {
   "cell_type": "code",
   "execution_count": 2,
   "metadata": {},
   "outputs": [
    {
     "name": "stdout",
     "output_type": "stream",
     "text": [
      "3\n",
      "TTTCC\n",
      "#1 1\n",
      "TTTTTT\n",
      "#2 0\n",
      "CCCC\n",
      "#3 0\n"
     ]
    }
   ],
   "source": [
    "TC = int(input())\n",
    "\n",
    "for tc in range(1, TC+1):\n",
    "    Data = list(input())\n",
    "    N = len(Data)\n",
    "    stack = []\n",
    "    for i in range(N):\n",
    "        if not stack or stack[-1] != Data[i]:\n",
    "            stack.append(Data[i])\n",
    "        elif stack and stack[-1] == Data[i]:\n",
    "            stack.pop()\n",
    "    print(f'#{tc} {len(stack)}')"
   ]
  },
  {
   "cell_type": "code",
   "execution_count": 4,
   "metadata": {},
   "outputs": [
    {
     "name": "stdout",
     "output_type": "stream",
     "text": [
      "3\n",
      "ABCCB\n",
      "#1 1\n",
      "NNNASBBSNV\n",
      "#2 4\n",
      "UKJWHGGHNFTCRRCTWLALX\n",
      "#3 11\n"
     ]
    }
   ],
   "source": [
    "T = int(input())\n",
    "\n",
    "for t in range(1, T+1):\n",
    "    Data = list(input())\n",
    "    N = len(Data)\n",
    "    stack = []\n",
    "    for i in range(N):\n",
    "        if not stack or stack[-1] != Data[i]:\n",
    "            stack.append(Data[i])\n",
    "        elif stack and stack[-1] == Data[i]:\n",
    "            stack.pop()\n",
    "    print(f'#{t} {len(stack)}')"
   ]
  }
 ],
 "metadata": {
  "kernelspec": {
   "display_name": "Python 3",
   "language": "python",
   "name": "python3"
  },
  "language_info": {
   "codemirror_mode": {
    "name": "ipython",
    "version": 3
   },
   "file_extension": ".py",
   "mimetype": "text/x-python",
   "name": "python",
   "nbconvert_exporter": "python",
   "pygments_lexer": "ipython3",
   "version": "3.7.3"
  }
 },
 "nbformat": 4,
 "nbformat_minor": 4
}
