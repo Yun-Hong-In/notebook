{
 "cells": [
  {
   "cell_type": "code",
   "execution_count": 6,
   "metadata": {},
   "outputs": [],
   "source": [
    "def check_bracket(text): \n",
    "    stack = [] \n",
    "    for idx, letter in enumerate(text): \n",
    "        if letter == '(': \n",
    "            stack.append(idx) \n",
    "        elif letter == ')': \n",
    "            if stack: \n",
    "                stack.pop() \n",
    "            else: \n",
    "                stack.append(idx) \n",
    "    return stack \n"
   ]
  },
  {
   "cell_type": "code",
   "execution_count": 7,
   "metadata": {},
   "outputs": [
    {
     "name": "stdout",
     "output_type": "stream",
     "text": [
      "[30]\n"
     ]
    }
   ],
   "source": [
    "print(check_bracket('2.4 + 23/12 + (3.141592 * .21))'))"
   ]
  },
  {
   "cell_type": "code",
   "execution_count": 9,
   "metadata": {},
   "outputs": [],
   "source": [
    "class Stack:\n",
    "    def __init__(self):\n",
    "        self.data = []\n",
    "    def push(self, data):\n",
    "        self.data.append(data)\n",
    "    def pop(self):\n",
    "        return self.data.pop()\n",
    "    def length(self):\n",
    "        return len(self.data)\n",
    "    def empty(self):\n",
    "        if len(self.data):\n",
    "            return False\n",
    "        return True\n",
    " \n",
    "t_dict = {'}' : '{' , ')' : '('}\n",
    " \n",
    "def check(test):\n",
    "    for a in test:\n",
    "        if a == '(' or a == '{':\n",
    "            stack.push(a)\n",
    "        elif a == ')' or a == '}' :\n",
    "            if stack.empty() or t_dict[a] != stack.pop():\n",
    "                return 0\n",
    "    if stack.empty():  \n",
    "        return 1\n",
    "    else:  \n",
    "        return 0"
   ]
  },
  {
   "cell_type": "code",
   "execution_count": 10,
   "metadata": {},
   "outputs": [
    {
     "name": "stdout",
     "output_type": "stream",
     "text": [
      "3\n",
      "print('{} {}'.format(1, 2))\n",
      "#1 1\n",
      "N, M = map(int, input().split())\n",
      "#2 1\n",
      "print('#{} {}'.format(tc, find())\n",
      "#3 0\n"
     ]
    }
   ],
   "source": [
    "T = int(input())\n",
    "for t in range(1, T+1):\n",
    "    stack = Stack()\n",
    "    print('#{} {}'.format(t, check(input())))"
   ]
  }
 ],
 "metadata": {
  "kernelspec": {
   "display_name": "Python 3",
   "language": "python",
   "name": "python3"
  },
  "language_info": {
   "codemirror_mode": {
    "name": "ipython",
    "version": 3
   },
   "file_extension": ".py",
   "mimetype": "text/x-python",
   "name": "python",
   "nbconvert_exporter": "python",
   "pygments_lexer": "ipython3",
   "version": "3.7.3"
  }
 },
 "nbformat": 4,
 "nbformat_minor": 4
}
